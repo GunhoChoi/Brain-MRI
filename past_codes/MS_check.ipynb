{
 "cells": [
  {
   "cell_type": "code",
   "execution_count": 1,
   "metadata": {},
   "outputs": [
    {
     "data": {
      "text/plain": [
       "True"
      ]
     },
     "execution_count": 1,
     "metadata": {},
     "output_type": "execute_result"
    }
   ],
   "source": [
    "import torch\n",
    "import torch.nn as nn\n",
    "import torch.optim as optim\n",
    "import torchvision.models as models\n",
    "import torchvision.datasets as dset\n",
    "import torchvision.transforms as transforms\n",
    "from torch.utils.data import DataLoader\n",
    "from torch.autograd import Variable\n",
    "import matplotlib.pyplot as plt\n",
    "\n",
    "torch.cuda.is_available()"
   ]
  },
  {
   "cell_type": "code",
   "execution_count": 2,
   "metadata": {
    "collapsed": true
   },
   "outputs": [],
   "source": [
    "batch_size = 4\n",
    "learning_rate = 0.001\n",
    "epoch = 50\n",
    "num_category = 1\n",
    "\n",
    "num_mode =3 # t1,t2,flair\n",
    "img_size = 32\n",
    "is_multi_gpu = False"
   ]
  },
  {
   "cell_type": "code",
   "execution_count": 3,
   "metadata": {},
   "outputs": [],
   "source": [
    "resnet = models.resnet50(pretrained=False)\n",
    "inception = models.inception_v3(pretrained=False)\n",
    "\n",
    "#list(resnet.children())[:]"
   ]
  },
  {
   "cell_type": "code",
   "execution_count": 4,
   "metadata": {},
   "outputs": [],
   "source": [
    "class Resnet(nn.Module):\n",
    "    def __init__(self):\n",
    "        super(Resnet,self).__init__()\n",
    "        self.layer0 = nn.Conv2d(num_mode*3,64, kernel_size=(7, 7), stride=(2, 2), padding=(3, 3), bias=False)\n",
    "        self.layer1 = nn.Sequential(*list(resnet.children())[1:-2])        \n",
    "        \n",
    "    def forward(self,x):\n",
    "        out = self.layer0(x)\n",
    "        out = self.layer1(out)\n",
    "        #out = out.view(batch_size,-1)\n",
    "        return out"
   ]
  },
  {
   "cell_type": "code",
   "execution_count": 5,
   "metadata": {
    "collapsed": true
   },
   "outputs": [],
   "source": [
    "class Inception(nn.Module):\n",
    "    def __init__(self):\n",
    "        super(Inception,self).__init__()\n",
    "        self.layer0 = nn.Sequential(\n",
    "            nn.Conv2d(num_mode*3,32, kernel_size=(3, 3), stride=(1, 1), padding=(1, 1), bias=False),\n",
    "            nn.BatchNorm2d(32, eps=0.001, momentum=0.1, affine=True)\n",
    "        )\n",
    "        self.layer1 = nn.Sequential(*list(inception.children())[1:-1])        \n",
    "        \n",
    "    def forward(self,x):\n",
    "        out = self.layer0(x)\n",
    "        out = self.layer1(out)\n",
    "        #out = out.view(batch_size,-1)\n",
    "        return out"
   ]
  },
  {
   "cell_type": "code",
   "execution_count": 6,
   "metadata": {},
   "outputs": [],
   "source": [
    "class Classifier(nn.Module):\n",
    "    def __init__(self):\n",
    "        super(Classifier,self).__init__()\n",
    "        self.layer0 = nn.Sequential(\n",
    "            nn.Conv2d(4096,100,kernel_size=1,bias=False),\n",
    "            nn.BatchNorm2d(100),\n",
    "            nn.ReLU(inplace=True),\n",
    "            nn.Conv2d(100,1,kernel_size=1,bias=False),\n",
    "            nn.ReLU(inplace=True)\n",
    "        )\n",
    "        \n",
    "    def forward(self,x):\n",
    "        out = self.layer0(x)\n",
    "        out = out.view(batch_size,-1)\n",
    "        return out\n",
    "    "
   ]
  },
  {
   "cell_type": "code",
   "execution_count": 7,
   "metadata": {},
   "outputs": [],
   "source": [
    "if torch.cuda.is_available and is_multi_gpu:\n",
    "    feature_extractor_1 = nn.DataParallel(Resnet()).cuda()\n",
    "    feature_extractor_2 = nn.DataParallel(Resnet()).cuda()\n",
    "    classifier = nn.DataParallel(Classifier()).cuda()\n",
    "    \n",
    "elif torch.cuda.is_available:\n",
    "    feature_extractor_1 = Resnet().cuda()\n",
    "    feature_extractor_2 = Resnet().cuda()\n",
    "    classifier = Classifier().cuda()\n",
    "    \n",
    "else:\n",
    "    feature_extractor_1 = Resnet()\n",
    "    feature_extractor_2 = Resnet()\n",
    "    classifier = Classifier()"
   ]
  },
  {
   "cell_type": "code",
   "execution_count": 8,
   "metadata": {},
   "outputs": [],
   "source": [
    "if torch.cuda.is_available:\n",
    "    x1 = Variable(torch.Tensor(batch_size,num_mode*3,img_size,img_size)).cuda()\n",
    "    x2 = Variable(torch.Tensor(batch_size,num_mode*3,img_size,img_size)).cuda()\n",
    "else:\n",
    "    x1 = Variable(torch.Tensor(batch_size,num_mode*3,img_size,img_size))\n",
    "    x2 = Variable(torch.Tensor(batch_size,num_mode*3,img_size,img_size))"
   ]
  },
  {
   "cell_type": "code",
   "execution_count": 9,
   "metadata": {},
   "outputs": [
    {
     "name": "stdout",
     "output_type": "stream",
     "text": [
      "torch.Size([4, 4096, 1, 1])\n",
      "torch.Size([4, 1])\n"
     ]
    }
   ],
   "source": [
    "out_1= feature_extractor_1(x1)\n",
    "out_2= feature_extractor_2(x2)\n",
    "\n",
    "concat_out = torch.cat([out_1,out_2],dim=1)\n",
    "\n",
    "print(concat_out.size())\n",
    "\n",
    "out = classifier(concat_out)\n",
    "print(out.size())"
   ]
  },
  {
   "cell_type": "code",
   "execution_count": null,
   "metadata": {
    "collapsed": true
   },
   "outputs": [],
   "source": []
  }
 ],
 "metadata": {
  "kernelspec": {
   "display_name": "Python [conda env:pytorch]",
   "language": "python",
   "name": "conda-env-pytorch-py"
  },
  "language_info": {
   "codemirror_mode": {
    "name": "ipython",
    "version": 3
   },
   "file_extension": ".py",
   "mimetype": "text/x-python",
   "name": "python",
   "nbconvert_exporter": "python",
   "pygments_lexer": "ipython3",
   "version": "3.6.2"
  }
 },
 "nbformat": 4,
 "nbformat_minor": 2
}
