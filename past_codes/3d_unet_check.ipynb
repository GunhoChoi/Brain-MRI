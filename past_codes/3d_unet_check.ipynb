{
 "cells": [
  {
   "cell_type": "code",
   "execution_count": 1,
   "metadata": {
    "collapsed": true
   },
   "outputs": [],
   "source": [
    "import torch\n",
    "import torch.nn as nn\n",
    "import torch.optim as optim\n",
    "import torch.utils as utils\n",
    "import torch.nn.init as init\n",
    "import torch.utils.data as data\n",
    "import torchvision.utils as v_utils\n",
    "import torchvision.datasets as dset\n",
    "import torchvision.transforms as transforms\n",
    "from torch.autograd import Variable\n",
    "\n",
    "def conv_block_3d(in_dim,out_dim,act_fn):\n",
    "    model = nn.Sequential(\n",
    "        nn.Conv3d(in_dim,out_dim, kernel_size=3, stride=1, padding=1),\n",
    "        nn.BatchNorm3d(out_dim),\n",
    "        act_fn,\n",
    "    )\n",
    "    return model\n",
    "\n",
    "def conv_trans_block_3d(in_dim,out_dim,act_fn):\n",
    "    model = nn.Sequential(\n",
    "        nn.ConvTranspose3d(in_dim,out_dim, kernel_size=3, stride=2, padding=1,output_padding=1),\n",
    "        nn.BatchNorm3d(out_dim),\n",
    "        act_fn,\n",
    "    )\n",
    "    return model\n",
    "\n",
    "def maxpool_3d():\n",
    "    pool = nn.MaxPool3d(kernel_size=2, stride=2, padding=0)\n",
    "    return pool\n",
    "\n",
    "def conv_block_2_3d(in_dim,out_dim,act_fn):\n",
    "    model = nn.Sequential(\n",
    "        conv_block_3d(in_dim,out_dim,act_fn),\n",
    "        nn.Conv3d(out_dim,out_dim, kernel_size=3, stride=1, padding=1),\n",
    "        nn.BatchNorm3d(out_dim),\n",
    "    )\n",
    "    return model    \n",
    "\n",
    "def conv_block_3_3d(in_dim,out_dim,act_fn):\n",
    "    model = nn.Sequential(\n",
    "        conv_block_3d(in_dim,out_dim,act_fn),\n",
    "        conv_block_3d(out_dim,out_dim,act_fn),\n",
    "        nn.Conv3d(out_dim,out_dim, kernel_size=3, stride=1, padding=1),\n",
    "        nn.BatchNorm3d(out_dim),\n",
    "    )\n",
    "    return model\n",
    "\n",
    "class UnetGenerator_3d(nn.Module):\n",
    "\n",
    "    def __init__(self,in_dim,out_dim,num_filter):\n",
    "        super(UnetGenerator_3d,self).__init__()\n",
    "        self.in_dim = in_dim\n",
    "        self.out_dim = out_dim\n",
    "        self.num_filter = num_filter\n",
    "        act_fn = nn.LeakyReLU(0.2, inplace=True)\n",
    "\n",
    "        print(\"\\n------\\tInitiating U-Net\\t------\\t\\n\")\n",
    "        \n",
    "        self.down_1 = conv_block_2_3d(self.in_dim,self.num_filter,act_fn)\n",
    "        self.pool_1 = maxpool_3d()\n",
    "        self.down_2 = conv_block_2_3d(self.num_filter,self.num_filter*2,act_fn)\n",
    "        self.pool_2 = maxpool_3d()\n",
    "        self.down_3 = conv_block_2_3d(self.num_filter*2,self.num_filter*4,act_fn)\n",
    "        self.pool_3 = maxpool_3d()\n",
    "        \n",
    "        self.bridge = conv_block_2_3d(self.num_filter*4,self.num_filter*8,act_fn)\n",
    "        \n",
    "        self.trans_1 = conv_trans_block_3d(self.num_filter*8,self.num_filter*8,act_fn)\n",
    "        self.up_1 = conv_block_2_3d(self.num_filter*12,self.num_filter*4,act_fn)\n",
    "        self.trans_2 = conv_trans_block_3d(self.num_filter*4,self.num_filter*4,act_fn)\n",
    "        self.up_2 = conv_block_2_3d(self.num_filter*6,self.num_filter*2,act_fn)\n",
    "        self.trans_3 = conv_trans_block_3d(self.num_filter*2,self.num_filter*2,act_fn)\n",
    "        self.up_3 = conv_block_2_3d(self.num_filter*3,self.num_filter*1,act_fn)\n",
    "        \n",
    "        self.out = conv_block_3d(self.num_filter,out_dim,act_fn)\n",
    "\n",
    "        print(\"------\\tComplete\\t------\")\n",
    "\n",
    "    def forward(self,x):\n",
    "        down_1 = self.down_1(x)\n",
    "        pool_1 = self.pool_1(down_1)\n",
    "        down_2 = self.down_2(pool_1)\n",
    "        pool_2 = self.pool_2(down_2)\n",
    "        down_3 = self.down_3(pool_2)\n",
    "        pool_3 = self.pool_3(down_3)\n",
    "        \n",
    "        bridge = self.bridge(pool_3)\n",
    "        \n",
    "        trans_1  = self.trans_1(bridge)\n",
    "        concat_1 = torch.cat([trans_1,down_3],dim=1)\n",
    "        up_1     = self.up_1(concat_1)\n",
    "        trans_2  = self.trans_2(up_1)\n",
    "        concat_2 = torch.cat([trans_2,down_2],dim=1)\n",
    "        up_2     = self.up_2(concat_2)\n",
    "        trans_3  = self.trans_3(up_2)\n",
    "        concat_3 = torch.cat([trans_3,down_1],dim=1)\n",
    "        up_3     = self.up_3(concat_3)\n",
    "        \n",
    "        out = self.out(up_3)\n",
    "                        \n",
    "        return out\n",
    "\n",
    "def loss_function(output,label):\n",
    "    batch_len, channel,x,y,z = output.size()\n",
    "    total_loss = 0\n",
    "    for i in range(batch_len):    \n",
    "        for j in range(z):\n",
    "            loss = 0\n",
    "            output_z = output[i:i+1,:,:,:,j]\n",
    "            label_z = label[i,:,:,:,j]\n",
    "            \n",
    "            softmax_output_z = nn.Softmax2d()(output_z)\n",
    "            logsoftmax_output_z = torch.log(softmax_output_z)\n",
    "            \n",
    "            loss = nn.NLLLoss2d()(logsoftmax_output_z,label_z)\n",
    "            total_loss += loss\n",
    "            \n",
    "    return total_loss+1e-6"
   ]
  },
  {
   "cell_type": "code",
   "execution_count": 2,
   "metadata": {},
   "outputs": [
    {
     "name": "stdout",
     "output_type": "stream",
     "text": [
      "\n",
      "------\tInitiating U-Net\t------\t\n",
      "\n",
      "------\tComplete\t------\n"
     ]
    }
   ],
   "source": [
    "in_dim = 3\n",
    "out_dim = 2\n",
    "num_filter = 16\n",
    "\n",
    "model = UnetGenerator_3d(in_dim=in_dim,\n",
    "                         out_dim=out_dim,\n",
    "                         num_filter=num_filter)"
   ]
  },
  {
   "cell_type": "code",
   "execution_count": 3,
   "metadata": {},
   "outputs": [
    {
     "data": {
      "text/plain": [
       "(torch.Size([2, 3, 16, 16, 16]), 378.0)"
      ]
     },
     "execution_count": 3,
     "metadata": {},
     "output_type": "execute_result"
    }
   ],
   "source": [
    "batch_size = 2\n",
    "channel =3\n",
    "voxel_size = 16\n",
    "\n",
    "data = torch.zeros(batch_size,\n",
    "                    channel,\n",
    "                    voxel_size,voxel_size,voxel_size)\n",
    "\n",
    "data[:,:,2:5,3:6,2:9]=1.0\n",
    "\n",
    "data.size(),torch.sum(data[data==1])"
   ]
  },
  {
   "cell_type": "code",
   "execution_count": 4,
   "metadata": {
    "scrolled": false
   },
   "outputs": [
    {
     "name": "stdout",
     "output_type": "stream",
     "text": [
      "4096 \n",
      " Variable containing:\n",
      " 320\n",
      "[torch.LongTensor of size 1]\n",
      " \n",
      " 0.078125\n"
     ]
    }
   ],
   "source": [
    "label = torch.zeros(batch_size,1,16,16,16).type_as(torch.LongTensor())\n",
    "label[:,:,2:10,3:7,4:9]=1\n",
    "label_var = Variable(label)\n",
    "\n",
    "#print(label)\n",
    "print(16**3,\"\\n\",torch.sum(label_var),\"\\n\",torch.sum(label)/(16**3))"
   ]
  },
  {
   "cell_type": "code",
   "execution_count": 5,
   "metadata": {},
   "outputs": [
    {
     "name": "stdout",
     "output_type": "stream",
     "text": [
      "torch.FloatTensor \n",
      " Variable containing:\n",
      " 21.7058\n",
      "[torch.FloatTensor of size 1]\n",
      "\n"
     ]
    }
   ],
   "source": [
    "#output = model(Variable(data))\n",
    "\n",
    "output = torch.zeros(batch_size,2,16,16,16)\n",
    "output[:,1,2:10,3:7,4:9]=1\n",
    "output = Variable(output)\n",
    "\n",
    "loss = loss_function(output,label_var)\n",
    "\n",
    "print(output.data.type(),\"\\n\",loss)"
   ]
  },
  {
   "cell_type": "code",
   "execution_count": 6,
   "metadata": {},
   "outputs": [
    {
     "data": {
      "text/plain": [
       "Variable containing:\n",
       " 64\n",
       "[torch.ByteTensor of size 1]"
      ]
     },
     "execution_count": 6,
     "metadata": {},
     "output_type": "execute_result"
    }
   ],
   "source": [
    "output_idx = output[:,0,:,:,:] < output[:,1,:,:,:]\n",
    "#print(output_idx)\n",
    "torch.sum(output_idx)"
   ]
  },
  {
   "cell_type": "code",
   "execution_count": 7,
   "metadata": {
    "collapsed": true
   },
   "outputs": [],
   "source": [
    "import numpy as np\n",
    "def dice_score(output,label_var):\n",
    "    batch_size = output.size()[0]\n",
    "    #print(batch_size)\n",
    "    \n",
    "    np_output = output.data.numpy()\n",
    "    np_label = label.numpy()\n",
    "    \n",
    "    #print(np_output.shape,np_label.shape)\n",
    "    \n",
    "    output_idx = np_output[:,0,:,:,:] < np_output[:,1,:,:,:]\n",
    "    output_idx = output_idx.astype(np.int64)\n",
    "    #print(output_idx.sum(),np_label.sum())\n",
    "    \n",
    "    denominator = output_idx.sum()+np_label.sum()\n",
    "    \n",
    "    #print(denominator.dtype, output_idx.dtype,np_label.dtype)\n",
    "    \n",
    "    #print(output_idx.sum())\n",
    "    output_idx[output_idx==0]=-1\n",
    "    #print(output_idx.sum())\n",
    "    \n",
    "    output_idx = output_idx.reshape([batch_size,1,voxel_size,voxel_size,voxel_size])\n",
    "    #print(output_idx.shape,np_label.shape)\n",
    "\n",
    "    intersection = output_idx==np_label\n",
    "    intersection = intersection.astype(np.int64)\n",
    "    #print(intersection.shape)\n",
    "    \n",
    "    #print(intersection.sum(),denominator)\n",
    "    \n",
    "    return intersection.sum()*2/denominator"
   ]
  },
  {
   "cell_type": "code",
   "execution_count": 8,
   "metadata": {
    "scrolled": true
   },
   "outputs": [
    {
     "data": {
      "text/plain": [
       "1.0"
      ]
     },
     "execution_count": 8,
     "metadata": {},
     "output_type": "execute_result"
    }
   ],
   "source": [
    "dice_score(output,label_var)"
   ]
  },
  {
   "cell_type": "code",
   "execution_count": 9,
   "metadata": {
    "collapsed": true
   },
   "outputs": [],
   "source": [
    "optimizer = optim.Adam(model.parameters(),lr=0.002)"
   ]
  },
  {
   "cell_type": "code",
   "execution_count": 10,
   "metadata": {},
   "outputs": [
    {
     "name": "stdout",
     "output_type": "stream",
     "text": [
      "12.016175621\n",
      "63.4920634921\n",
      "59.8130841121\n",
      "61.3026819923\n",
      "62.1359223301\n",
      "62.9921259843\n",
      "65.5737704918\n",
      "72.8929384966\n",
      "78.239608802\n",
      "86.7208672087\n",
      "93.567251462\n",
      "96.6767371601\n",
      "97.8593272171\n",
      "99.0712074303\n",
      "99.6884735202\n",
      "100.0\n"
     ]
    }
   ],
   "source": [
    "for i in range(10000):\n",
    "    optimizer.zero_grad()\n",
    "    output = model(Variable(data))\n",
    "    loss = loss_function(output,label_var)\n",
    "    loss.backward()\n",
    "    if i % 10 ==0:\n",
    "        d_score = dice_score(output,label_var)*100\n",
    "        print(d_score)\n",
    "        if d_score ==100:\n",
    "            break\n",
    "    optimizer.step()"
   ]
  }
 ],
 "metadata": {
  "kernelspec": {
   "display_name": "Python [default]",
   "language": "python",
   "name": "python3"
  },
  "language_info": {
   "codemirror_mode": {
    "name": "ipython",
    "version": 3
   },
   "file_extension": ".py",
   "mimetype": "text/x-python",
   "name": "python",
   "nbconvert_exporter": "python",
   "pygments_lexer": "ipython3",
   "version": "3.6.2"
  }
 },
 "nbformat": 4,
 "nbformat_minor": 2
}
